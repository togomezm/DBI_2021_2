{
  "nbformat": 4,
  "nbformat_minor": 0,
  "metadata": {
    "colab": {
      "name": "Tarea_1_DBI_TomasGomez.ipynb",
      "provenance": [],
      "collapsed_sections": [],
      "authorship_tag": "ABX9TyO1uN57fhPgFRBSS1gARrfQ",
      "include_colab_link": true
    },
    "kernelspec": {
      "name": "python3",
      "display_name": "Python 3"
    },
    "language_info": {
      "name": "python"
    }
  },
  "cells": [
    {
      "cell_type": "markdown",
      "metadata": {
        "id": "view-in-github",
        "colab_type": "text"
      },
      "source": [
        "<a href=\"https://colab.research.google.com/github/togomezm/DBI_2021_2/blob/main/Tarea_1_DBI_TomasGomez.ipynb\" target=\"_parent\"><img src=\"https://colab.research.google.com/assets/colab-badge.svg\" alt=\"Open In Colab\"/></a>"
      ]
    },
    {
      "cell_type": "code",
      "execution_count": 215,
      "metadata": {
        "id": "0yUpl5zbPUX6"
      },
      "outputs": [],
      "source": [
        "import pandas as pd\n",
        "pd.options.display.float_format = '{:.2f}'.format"
      ]
    },
    {
      "cell_type": "code",
      "source": [
        "url=\"https://raw.githubusercontent.com/togomezm/DBI_2021_2/main/Baseball%20Salaries%202011.csv\"\n",
        "df = pd.read_csv(url)"
      ],
      "metadata": {
        "id": "_OPP-56-j1RH"
      },
      "execution_count": 216,
      "outputs": []
    },
    {
      "cell_type": "code",
      "source": [
        "print(df.info())"
      ],
      "metadata": {
        "id": "dMNrB28l47-Z",
        "colab": {
          "base_uri": "https://localhost:8080/"
        },
        "outputId": "5aa0c6c8-b423-4d49-fb09-c52d838e1eda"
      },
      "execution_count": 217,
      "outputs": [
        {
          "output_type": "stream",
          "name": "stdout",
          "text": [
            "<class 'pandas.core.frame.DataFrame'>\n",
            "RangeIndex: 843 entries, 0 to 842\n",
            "Data columns (total 5 columns):\n",
            " #   Column      Non-Null Count  Dtype \n",
            "---  ------      --------------  ----- \n",
            " 0   Player      843 non-null    object\n",
            " 1   Team        843 non-null    object\n",
            " 2   Position    843 non-null    object\n",
            " 3   Experience  843 non-null    int64 \n",
            " 4   Salary      843 non-null    int64 \n",
            "dtypes: int64(2), object(3)\n",
            "memory usage: 33.1+ KB\n",
            "None\n"
          ]
        }
      ]
    },
    {
      "cell_type": "code",
      "source": [
        "ax=df.hist(column=\"Salary\",bins=32)"
      ],
      "metadata": {
        "colab": {
          "base_uri": "https://localhost:8080/",
          "height": 294
        },
        "id": "eXSEnDh70uBT",
        "outputId": "38d7186f-e621-4090-e78e-ada287d98b85"
      },
      "execution_count": 218,
      "outputs": [
        {
          "output_type": "display_data",
          "data": {
            "image/png": "[encoded data removed]",
            "text/plain": [
              "<Figure size 432x288 with 1 Axes>"
            ]
          },
          "metadata": {
            "needs_background": "light"
          }
        }
      ]
    },
    {
      "cell_type": "code",
      "source": [
        "m1=df.Salary.mean()\n",
        "df.Salary.describe()"
      ],
      "metadata": {
        "colab": {
          "base_uri": "https://localhost:8080/"
        },
        "id": "hVXbyX-BkAMg",
        "outputId": "8e664361-5043-4bec-b90d-b5209d317b04"
      },
      "execution_count": 219,
      "outputs": [
        {
          "output_type": "execute_result",
          "data": {
            "text/plain": [
              "count        843.00\n",
              "mean     3305054.67\n",
              "std      4534742.27\n",
              "min       414000.00\n",
              "25%       430325.00\n",
              "50%      1175000.00\n",
              "75%      4306250.00\n",
              "max     32000000.00\n",
              "Name: Salary, dtype: float64"
            ]
          },
          "metadata": {},
          "execution_count": 219
        }
      ]
    },
    {
      "cell_type": "code",
      "source": [
        "df.skew(axis=0)\n",
        "print(df.quantile([0.25,0.5,0.75]))"
      ],
      "metadata": {
        "colab": {
          "base_uri": "https://localhost:8080/"
        },
        "id": "3hmpEsqycxpp",
        "outputId": "bda6d081-d49b-473f-c876-fdf35f10414c"
      },
      "execution_count": 220,
      "outputs": [
        {
          "output_type": "stream",
          "name": "stdout",
          "text": [
            "      Experience     Salary\n",
            "0.25        7.00  430325.00\n",
            "0.50       11.00 1175000.00\n",
            "0.75       17.00 4306250.00\n"
          ]
        }
      ]
    },
    {
      "cell_type": "code",
      "source": [
        "df.boxplot(column=\"Salary\")"
      ],
      "metadata": {
        "colab": {
          "base_uri": "https://localhost:8080/",
          "height": 294
        },
        "id": "-bTRGDfO0m78",
        "outputId": "cd666c68-9c3c-4f5f-d57c-3a7ce5df6822"
      },
      "execution_count": 221,
      "outputs": [
        {
          "output_type": "execute_result",
          "data": {
            "text/plain": [
              "<matplotlib.axes._subplots.AxesSubplot at 0x7fa3370f4210>"
            ]
          },
          "metadata": {},
          "execution_count": 221
        },
        {
          "output_type": "display_data",
          "data": {
            "image/png": "[encoded data removed]",
            "text/plain": [
              "<Figure size 432x288 with 1 Axes>"
            ]
          },
          "metadata": {
            "needs_background": "light"
          }
        }
      ]
    },
    {
      "cell_type": "code",
      "source": [
        "Qs = df.Salary.quantile([0.25,0.5,0.75]).tolist()\n",
        "range = df.Salary.max() - df.Salary.min()\n",
        "\n",
        "IQR = Qs[-1]-Qs[1]\n",
        "print('The interquartile range is $'+str(IQR)+' USD')\n",
        "print('The range of the salaries is',range)"
      ],
      "metadata": {
        "colab": {
          "base_uri": "https://localhost:8080/"
        },
        "id": "uB9AvWxvwcWd",
        "outputId": "8ee4d136-33f6-42d6-be2d-b7f8453b0890"
      },
      "execution_count": 222,
      "outputs": [
        {
          "output_type": "stream",
          "name": "stdout",
          "text": [
            "The interquartile range is $3131250.0 USD\n",
            "The range of the salaries is 31586000\n"
          ]
        }
      ]
    },
    {
      "cell_type": "code",
      "source": [
        "df[['Salary','Team']].groupby('Team').mean().sort_values(by=\"Salary\",ascending=False)"
      ],
      "metadata": {
        "colab": {
          "base_uri": "https://localhost:8080/",
          "height": 1000
        },
        "id": "IQclfsyS726f",
        "outputId": "58b43f47-25e6-41e0-9317-4ea2bde9dd10"
      },
      "execution_count": 223,
      "outputs": [
        {
          "output_type": "execute_result",
          "data": {
            "text/html": [
              "<div>\n",
              "<style scoped>\n",
              "    .dataframe tbody tr th:only-of-type {\n",
              "        vertical-align: middle;\n",
              "    }\n",
              "\n",
              "    .dataframe tbody tr th {\n",
              "        vertical-align: top;\n",
              "    }\n",
              "\n",
              "    .dataframe thead th {\n",
              "        text-align: right;\n",
              "    }\n",
              "</style>\n",
              "<table border=\"1\" class=\"dataframe\">\n",
              "  <thead>\n",
              "    <tr style=\"text-align: right;\">\n",
              "      <th></th>\n",
              "      <th>Salary</th>\n",
              "    </tr>\n",
              "    <tr>\n",
              "      <th>Team</th>\n",
              "      <th></th>\n",
              "    </tr>\n",
              "  </thead>\n",
              "  <tbody>\n",
              "    <tr>\n",
              "      <th>New York Yankees</th>\n",
              "      <td>6756300.93</td>\n",
              "    </tr>\n",
              "    <tr>\n",
              "      <th>Boston Red Sox</th>\n",
              "      <td>5991202.78</td>\n",
              "    </tr>\n",
              "    <tr>\n",
              "      <th>Philadelphia Phillies</th>\n",
              "      <td>5765879.30</td>\n",
              "    </tr>\n",
              "    <tr>\n",
              "      <th>Chicago Cubs</th>\n",
              "      <td>5001893.16</td>\n",
              "    </tr>\n",
              "    <tr>\n",
              "      <th>Chicago White Sox</th>\n",
              "      <td>4732925.93</td>\n",
              "    </tr>\n",
              "    <tr>\n",
              "      <th>Minnesota Twins</th>\n",
              "      <td>4509480.00</td>\n",
              "    </tr>\n",
              "    <tr>\n",
              "      <th>Los Angeles Angels</th>\n",
              "      <td>4469134.39</td>\n",
              "    </tr>\n",
              "    <tr>\n",
              "      <th>New York Mets</th>\n",
              "      <td>4401752.19</td>\n",
              "    </tr>\n",
              "    <tr>\n",
              "      <th>San Francisco Giants</th>\n",
              "      <td>4377716.04</td>\n",
              "    </tr>\n",
              "    <tr>\n",
              "      <th>Detroit Tigers</th>\n",
              "      <td>3914823.37</td>\n",
              "    </tr>\n",
              "    <tr>\n",
              "      <th>St. Louis Cardinals</th>\n",
              "      <td>3904947.11</td>\n",
              "    </tr>\n",
              "    <tr>\n",
              "      <th>Los Angeles Dodgers</th>\n",
              "      <td>3472966.63</td>\n",
              "    </tr>\n",
              "    <tr>\n",
              "      <th>Colorado Rockies</th>\n",
              "      <td>3390310.42</td>\n",
              "    </tr>\n",
              "    <tr>\n",
              "      <th>Atlanta Braves</th>\n",
              "      <td>3346257.38</td>\n",
              "    </tr>\n",
              "    <tr>\n",
              "      <th>Baltimore Orioles</th>\n",
              "      <td>3280924.54</td>\n",
              "    </tr>\n",
              "    <tr>\n",
              "      <th>Texas Rangers</th>\n",
              "      <td>3182733.24</td>\n",
              "    </tr>\n",
              "    <tr>\n",
              "      <th>Seattle Mariners</th>\n",
              "      <td>2884153.33</td>\n",
              "    </tr>\n",
              "    <tr>\n",
              "      <th>Milwaukee Brewers</th>\n",
              "      <td>2849911.10</td>\n",
              "    </tr>\n",
              "    <tr>\n",
              "      <th>Cincinnati Reds</th>\n",
              "      <td>2531571.13</td>\n",
              "    </tr>\n",
              "    <tr>\n",
              "      <th>Houston Astros</th>\n",
              "      <td>2437724.14</td>\n",
              "    </tr>\n",
              "    <tr>\n",
              "      <th>Oakland Athletics</th>\n",
              "      <td>2376303.57</td>\n",
              "    </tr>\n",
              "    <tr>\n",
              "      <th>Washington Nationals</th>\n",
              "      <td>2201963.03</td>\n",
              "    </tr>\n",
              "    <tr>\n",
              "      <th>Miami Marlins</th>\n",
              "      <td>2190153.85</td>\n",
              "    </tr>\n",
              "    <tr>\n",
              "      <th>Toronto Blue Jays</th>\n",
              "      <td>2018316.13</td>\n",
              "    </tr>\n",
              "    <tr>\n",
              "      <th>Arizona Diamondbacks</th>\n",
              "      <td>1986660.48</td>\n",
              "    </tr>\n",
              "    <tr>\n",
              "      <th>Cleveland Indians</th>\n",
              "      <td>1639682.20</td>\n",
              "    </tr>\n",
              "    <tr>\n",
              "      <th>Tampa Bay Rays</th>\n",
              "      <td>1578983.50</td>\n",
              "    </tr>\n",
              "    <tr>\n",
              "      <th>Pittsburgh Pirates</th>\n",
              "      <td>1553344.83</td>\n",
              "    </tr>\n",
              "    <tr>\n",
              "      <th>San Diego Padres</th>\n",
              "      <td>1479646.45</td>\n",
              "    </tr>\n",
              "    <tr>\n",
              "      <th>Kansas City Royals</th>\n",
              "      <td>1338000.00</td>\n",
              "    </tr>\n",
              "  </tbody>\n",
              "</table>\n",
              "</div>"
            ],
            "text/plain": [
              "                          Salary\n",
              "Team                            \n",
              "New York Yankees      6756300.93\n",
              "Boston Red Sox        5991202.78\n",
              "Philadelphia Phillies 5765879.30\n",
              "Chicago Cubs          5001893.16\n",
              "Chicago White Sox     4732925.93\n",
              "Minnesota Twins       4509480.00\n",
              "Los Angeles Angels    4469134.39\n",
              "New York Mets         4401752.19\n",
              "San Francisco Giants  4377716.04\n",
              "Detroit Tigers        3914823.37\n",
              "St. Louis Cardinals   3904947.11\n",
              "Los Angeles Dodgers   3472966.63\n",
              "Colorado Rockies      3390310.42\n",
              "Atlanta Braves        3346257.38\n",
              "Baltimore Orioles     3280924.54\n",
              "Texas Rangers         3182733.24\n",
              "Seattle Mariners      2884153.33\n",
              "Milwaukee Brewers     2849911.10\n",
              "Cincinnati Reds       2531571.13\n",
              "Houston Astros        2437724.14\n",
              "Oakland Athletics     2376303.57\n",
              "Washington Nationals  2201963.03\n",
              "Miami Marlins         2190153.85\n",
              "Toronto Blue Jays     2018316.13\n",
              "Arizona Diamondbacks  1986660.48\n",
              "Cleveland Indians     1639682.20\n",
              "Tampa Bay Rays        1578983.50\n",
              "Pittsburgh Pirates    1553344.83\n",
              "San Diego Padres      1479646.45\n",
              "Kansas City Royals    1338000.00"
            ]
          },
          "metadata": {},
          "execution_count": 223
        }
      ]
    },
    {
      "cell_type": "code",
      "source": [
        "df.loc[df.Player == 'Alex Rodriguez', ['Salary']] = df.Salary*1000\n",
        "df.loc[df.Player == 'Alex Rodriguez']\n",
        "m2=df.Salary.mean()\n",
        "df.Salary.describe()"
      ],
      "metadata": {
        "colab": {
          "base_uri": "https://localhost:8080/"
        },
        "id": "XWWSy0wsuuA2",
        "outputId": "bbf872a1-320c-4d00-f462-b1d0f8a9590c"
      },
      "execution_count": 224,
      "outputs": [
        {
          "output_type": "execute_result",
          "data": {
            "text/plain": [
              "count           843.00\n",
              "mean       41226762.86\n",
              "std      1102034771.93\n",
              "min          414000.00\n",
              "25%          430325.00\n",
              "50%         1175000.00\n",
              "75%         4306250.00\n",
              "max     32000000000.00\n",
              "Name: Salary, dtype: float64"
            ]
          },
          "metadata": {},
          "execution_count": 224
        }
      ]
    },
    {
      "cell_type": "code",
      "source": [
        "Qs = df.Salary.quantile([0.25,0.5,0.75]).tolist()\n",
        "range = df.Salary.max() - df.Salary.min()\n",
        "IQR = Qs[-1]-Qs[1]\n",
        "change = ((m2-m1)/m1)*100\n",
        "print('The interquartile range is $'+str(IQR)+' USD')\n",
        "print('The range of the salaries is',range)\n",
        "print('The mean increased by',change,'%')"
      ],
      "metadata": {
        "colab": {
          "base_uri": "https://localhost:8080/"
        },
        "id": "sSsJDWPyvBF0",
        "outputId": "2b426f0f-95fb-4c16-950b-a3f0069af136"
      },
      "execution_count": 225,
      "outputs": [
        {
          "output_type": "stream",
          "name": "stdout",
          "text": [
            "The interquartile range is $3131250.0 USD\n",
            "The range of the salaries is 31999586000\n",
            "The mean increased by 1147.3851997741504 %\n"
          ]
        }
      ]
    }
  ]
}